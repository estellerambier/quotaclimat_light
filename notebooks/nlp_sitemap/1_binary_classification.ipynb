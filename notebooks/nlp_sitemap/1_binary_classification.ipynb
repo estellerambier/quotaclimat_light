{
 "cells": [
  {
   "attachments": {},
   "cell_type": "markdown",
   "metadata": {},
   "source": [
    "# Classifier les titres d’articles informant l’appartenance ou non au sujet climat\n",
    "\n",
    "Afin de mesurer la couverture des sujets climats/environmentaux, voici différentes thématiques qu’on aimerait résoudre :\n",
    "1. [**Binary classification**] Classifier les titres d’articles informant l’appartenance ou non au sujet climat.\n",
    "2. [**Topic modelling**] Classifier le topic des articles afin de pouvoir comparer par example, la couverture du traitement de la reforme des retraites à la couverture de la sortie du rapport du GIEC.\n",
    "3. Detecter les articles climato-sceptique et/ou anti-environnment (par example ventant les mérites de l’avion ou des températures douces en hiver).\n",
    "4. [**Sentiment analysis**] Comprendre le ton des articles: par example: “Climat : nous avons encore les moyens d’agir” est positif et subjectif tandis que “Limiter le réchauffement à 1,5 °C ? Trop tard, affirment mille scientifiques” est négatif et objectif(?).\n",
    "\n",
    "Dans ce notebook, on s'intéresse à la première tâche.\n",
    "\n",
    "**Table of contents**\n",
    "\n",
    "0. [Load data & EDA](#0-load-data--eda)\n",
    "1. [Create labels from climate-related sections](#1-create-labels-from-climate-related-sections)\n"
   ]
  },
  {
   "cell_type": "code",
   "execution_count": 1,
   "metadata": {},
   "outputs": [],
   "source": [
    "%load_ext autoreload\n",
    "%autoreload 2"
   ]
  },
  {
   "cell_type": "code",
   "execution_count": 2,
   "metadata": {},
   "outputs": [],
   "source": [
    "# Standard imports\n",
    "import sys\n",
    "sys.path.append('../..')\n",
    "import json\n",
    "import itertools\n",
    "\n",
    "# Third-party imports\n",
    "import pandas as pd\n",
    "import matplotlib.pyplot as plt\n",
    "import plotly.graph_objects as go\n",
    "from plotly.subplots import make_subplots\n",
    "import plotly.express as px\n",
    "from sklearn.preprocessing import MultiLabelBinarizer\n",
    "from sklearn.feature_extraction.text import TfidfVectorizer\n",
    "from nltk.corpus import stopwords\n",
    "from wordcloud import WordCloud\n",
    "from nltk.stem import WordNetLemmatizer, SnowballStemmer\n",
    "import gensim\n",
    "import datetime\n",
    "\n",
    "# Local imports\n",
    "from quotaclimat.data_ingestion.config_sitmap import MEDIA_CONFIG, SITEMAP_CONFIG\n",
    "from quotaclimat.data_processing.sitemap.sitemap_processing import load_all"
   ]
  },
  {
   "attachments": {},
   "cell_type": "markdown",
   "metadata": {},
   "source": [
    "## **0. Load data & EDA**"
   ]
  },
  {
   "cell_type": "code",
   "execution_count": 3,
   "metadata": {},
   "outputs": [],
   "source": [
    "# Load sitemap data\n",
    "df = load_all(\"../../data_public/sitemap_dumps/\")"
   ]
  },
  {
   "cell_type": "code",
   "execution_count": 4,
   "metadata": {},
   "outputs": [
    {
     "name": "stdout",
     "output_type": "stream",
     "text": [
      "Number of scraped news: 243015\n",
      "Number of features: 26\n"
     ]
    }
   ],
   "source": [
    "print(f\"Number of scraped news: {df.shape[0]}\")\n",
    "print(f\"Number of features: {df.shape[1]}\")"
   ]
  },
  {
   "cell_type": "code",
   "execution_count": 5,
   "metadata": {},
   "outputs": [
    {
     "data": {
      "text/html": [
       "<div>\n",
       "<style scoped>\n",
       "    .dataframe tbody tr th:only-of-type {\n",
       "        vertical-align: middle;\n",
       "    }\n",
       "\n",
       "    .dataframe tbody tr th {\n",
       "        vertical-align: top;\n",
       "    }\n",
       "\n",
       "    .dataframe thead th {\n",
       "        text-align: right;\n",
       "    }\n",
       "</style>\n",
       "<table border=\"1\" class=\"dataframe\">\n",
       "  <thead>\n",
       "    <tr style=\"text-align: right;\">\n",
       "      <th></th>\n",
       "      <th>url</th>\n",
       "      <th>news</th>\n",
       "      <th>news_publication</th>\n",
       "      <th>publication_name</th>\n",
       "      <th>publication_language</th>\n",
       "      <th>news_publication_date</th>\n",
       "      <th>news_title</th>\n",
       "      <th>news_keywords</th>\n",
       "      <th>image</th>\n",
       "      <th>image_loc</th>\n",
       "      <th>...</th>\n",
       "      <th>media</th>\n",
       "      <th>section</th>\n",
       "      <th>changefreq</th>\n",
       "      <th>news_access</th>\n",
       "      <th>image_title</th>\n",
       "      <th>lastmod</th>\n",
       "      <th>news_genres</th>\n",
       "      <th>priority</th>\n",
       "      <th>download_date_last</th>\n",
       "      <th>media_type</th>\n",
       "    </tr>\n",
       "  </thead>\n",
       "  <tbody>\n",
       "    <tr>\n",
       "      <th>32967</th>\n",
       "      <td>https://www.francetvinfo.fr/faits-divers/dispa...</td>\n",
       "      <td>\\n</td>\n",
       "      <td>\\n</td>\n",
       "      <td>Franceinfo</td>\n",
       "      <td>fr</td>\n",
       "      <td>2022-11-29 23:08:36</td>\n",
       "      <td>Disparitions en Isère : Yves Chatain a-t-il to...</td>\n",
       "      <td>Faits-divers, France</td>\n",
       "      <td>\\n</td>\n",
       "      <td>https://www.francetvinfo.fr/image/761gi5vt8-97...</td>\n",
       "      <td>...</td>\n",
       "      <td>francetvinfo</td>\n",
       "      <td>[faits-divers]</td>\n",
       "      <td>None</td>\n",
       "      <td>None</td>\n",
       "      <td>None</td>\n",
       "      <td>None</td>\n",
       "      <td>None</td>\n",
       "      <td>NaN</td>\n",
       "      <td>2022-11-30 23:25:43</td>\n",
       "      <td>tv</td>\n",
       "    </tr>\n",
       "    <tr>\n",
       "      <th>32968</th>\n",
       "      <td>https://www.francetvinfo.fr/economie/emploi/ca...</td>\n",
       "      <td>\\n</td>\n",
       "      <td>\\n</td>\n",
       "      <td>Franceinfo</td>\n",
       "      <td>fr</td>\n",
       "      <td>2022-11-29 23:13:06</td>\n",
       "      <td>Réforme des retraites : vers un départ à la re...</td>\n",
       "      <td>Retraite, Vie-professionnelle, Carrière, Emplo...</td>\n",
       "      <td>\\n</td>\n",
       "      <td>https://www.francetvinfo.fr/image/761gi62g7-81...</td>\n",
       "      <td>...</td>\n",
       "      <td>francetvinfo</td>\n",
       "      <td>[economie, emploi, carriere, vie-professionnel...</td>\n",
       "      <td>None</td>\n",
       "      <td>None</td>\n",
       "      <td>None</td>\n",
       "      <td>None</td>\n",
       "      <td>None</td>\n",
       "      <td>NaN</td>\n",
       "      <td>2022-11-30 23:25:43</td>\n",
       "      <td>tv</td>\n",
       "    </tr>\n",
       "    <tr>\n",
       "      <th>32969</th>\n",
       "      <td>https://www.francetvinfo.fr/politique/gouverne...</td>\n",
       "      <td>\\n</td>\n",
       "      <td>\\n</td>\n",
       "      <td>Franceinfo</td>\n",
       "      <td>fr</td>\n",
       "      <td>2022-11-29 23:25:38</td>\n",
       "      <td>Justice : Caroline Cayeux soupçonnée de fraude...</td>\n",
       "      <td>Gouvernement d'Elisabeth Borne, Politique</td>\n",
       "      <td>\\n</td>\n",
       "      <td>https://www.francetvinfo.fr/image/761gi693v-a0...</td>\n",
       "      <td>...</td>\n",
       "      <td>francetvinfo</td>\n",
       "      <td>[politique, gouvernement-d-elisabeth-borne]</td>\n",
       "      <td>None</td>\n",
       "      <td>None</td>\n",
       "      <td>None</td>\n",
       "      <td>None</td>\n",
       "      <td>None</td>\n",
       "      <td>NaN</td>\n",
       "      <td>2022-11-30 23:25:43</td>\n",
       "      <td>tv</td>\n",
       "    </tr>\n",
       "    <tr>\n",
       "      <th>32970</th>\n",
       "      <td>https://www.francetvinfo.fr/france/hauts-de-fr...</td>\n",
       "      <td>\\n</td>\n",
       "      <td>\\n</td>\n",
       "      <td>Franceinfo</td>\n",
       "      <td>fr</td>\n",
       "      <td>2022-11-29 23:19:12</td>\n",
       "      <td>Effondrement d'immeubles à Lille : de nouveaux...</td>\n",
       "      <td>France</td>\n",
       "      <td>\\n</td>\n",
       "      <td>https://www.francetvinfo.fr/image/761gi68c5-9c...</td>\n",
       "      <td>...</td>\n",
       "      <td>francetvinfo</td>\n",
       "      <td>[france, hauts-de-france, nord, lille]</td>\n",
       "      <td>None</td>\n",
       "      <td>None</td>\n",
       "      <td>None</td>\n",
       "      <td>None</td>\n",
       "      <td>None</td>\n",
       "      <td>NaN</td>\n",
       "      <td>2022-11-30 23:25:43</td>\n",
       "      <td>tv</td>\n",
       "    </tr>\n",
       "    <tr>\n",
       "      <th>32971</th>\n",
       "      <td>https://www.francetvinfo.fr/economie/emploi/ca...</td>\n",
       "      <td>\\n</td>\n",
       "      <td>\\n</td>\n",
       "      <td>Franceinfo</td>\n",
       "      <td>fr</td>\n",
       "      <td>2022-11-29 23:22:22</td>\n",
       "      <td>Réforme des retraites : le gouvernement envisa...</td>\n",
       "      <td>Retraite, Vie-professionnelle, Carrière, Emplo...</td>\n",
       "      <td>\\n</td>\n",
       "      <td>https://www.francetvinfo.fr/image/761gi68q6-0d...</td>\n",
       "      <td>...</td>\n",
       "      <td>francetvinfo</td>\n",
       "      <td>[economie, emploi, carriere, vie-professionnel...</td>\n",
       "      <td>None</td>\n",
       "      <td>None</td>\n",
       "      <td>None</td>\n",
       "      <td>None</td>\n",
       "      <td>None</td>\n",
       "      <td>NaN</td>\n",
       "      <td>2022-11-30 23:25:43</td>\n",
       "      <td>tv</td>\n",
       "    </tr>\n",
       "  </tbody>\n",
       "</table>\n",
       "<p>5 rows × 26 columns</p>\n",
       "</div>"
      ],
      "text/plain": [
       "                                                     url      news  \\\n",
       "32967  https://www.francetvinfo.fr/faits-divers/dispa...  \\n         \n",
       "32968  https://www.francetvinfo.fr/economie/emploi/ca...  \\n         \n",
       "32969  https://www.francetvinfo.fr/politique/gouverne...  \\n         \n",
       "32970  https://www.francetvinfo.fr/france/hauts-de-fr...  \\n         \n",
       "32971  https://www.francetvinfo.fr/economie/emploi/ca...  \\n         \n",
       "\n",
       "      news_publication publication_name publication_language  \\\n",
       "32967       \\n               Franceinfo                   fr   \n",
       "32968       \\n               Franceinfo                   fr   \n",
       "32969       \\n               Franceinfo                   fr   \n",
       "32970       \\n               Franceinfo                   fr   \n",
       "32971       \\n               Franceinfo                   fr   \n",
       "\n",
       "      news_publication_date  \\\n",
       "32967   2022-11-29 23:08:36   \n",
       "32968   2022-11-29 23:13:06   \n",
       "32969   2022-11-29 23:25:38   \n",
       "32970   2022-11-29 23:19:12   \n",
       "32971   2022-11-29 23:22:22   \n",
       "\n",
       "                                              news_title  \\\n",
       "32967  Disparitions en Isère : Yves Chatain a-t-il to...   \n",
       "32968  Réforme des retraites : vers un départ à la re...   \n",
       "32969  Justice : Caroline Cayeux soupçonnée de fraude...   \n",
       "32970  Effondrement d'immeubles à Lille : de nouveaux...   \n",
       "32971  Réforme des retraites : le gouvernement envisa...   \n",
       "\n",
       "                                           news_keywords     image  \\\n",
       "32967                               Faits-divers, France  \\n         \n",
       "32968  Retraite, Vie-professionnelle, Carrière, Emplo...  \\n         \n",
       "32969          Gouvernement d'Elisabeth Borne, Politique  \\n         \n",
       "32970                                             France  \\n         \n",
       "32971  Retraite, Vie-professionnelle, Carrière, Emplo...  \\n         \n",
       "\n",
       "                                               image_loc  ...         media  \\\n",
       "32967  https://www.francetvinfo.fr/image/761gi5vt8-97...  ...  francetvinfo   \n",
       "32968  https://www.francetvinfo.fr/image/761gi62g7-81...  ...  francetvinfo   \n",
       "32969  https://www.francetvinfo.fr/image/761gi693v-a0...  ...  francetvinfo   \n",
       "32970  https://www.francetvinfo.fr/image/761gi68c5-9c...  ...  francetvinfo   \n",
       "32971  https://www.francetvinfo.fr/image/761gi68q6-0d...  ...  francetvinfo   \n",
       "\n",
       "                                                 section changefreq  \\\n",
       "32967                                     [faits-divers]       None   \n",
       "32968  [economie, emploi, carriere, vie-professionnel...       None   \n",
       "32969        [politique, gouvernement-d-elisabeth-borne]       None   \n",
       "32970             [france, hauts-de-france, nord, lille]       None   \n",
       "32971  [economie, emploi, carriere, vie-professionnel...       None   \n",
       "\n",
       "      news_access  image_title lastmod news_genres priority  \\\n",
       "32967        None         None    None        None      NaN   \n",
       "32968        None         None    None        None      NaN   \n",
       "32969        None         None    None        None      NaN   \n",
       "32970        None         None    None        None      NaN   \n",
       "32971        None         None    None        None      NaN   \n",
       "\n",
       "       download_date_last media_type  \n",
       "32967 2022-11-30 23:25:43         tv  \n",
       "32968 2022-11-30 23:25:43         tv  \n",
       "32969 2022-11-30 23:25:43         tv  \n",
       "32970 2022-11-30 23:25:43         tv  \n",
       "32971 2022-11-30 23:25:43         tv  \n",
       "\n",
       "[5 rows x 26 columns]"
      ]
     },
     "execution_count": 5,
     "metadata": {},
     "output_type": "execute_result"
    }
   ],
   "source": [
    "df.head()"
   ]
  },
  {
   "cell_type": "code",
   "execution_count": 6,
   "metadata": {},
   "outputs": [
    {
     "name": "stdout",
     "output_type": "stream",
     "text": [
      "<class 'pandas.core.frame.DataFrame'>\n",
      "Int64Index: 243015 entries, 32967 to 107595\n",
      "Data columns (total 26 columns):\n",
      " #   Column                 Non-Null Count   Dtype              \n",
      "---  ------                 --------------   -----              \n",
      " 0   url                    243015 non-null  object             \n",
      " 1   news                   148607 non-null  object             \n",
      " 2   news_publication       148607 non-null  object             \n",
      " 3   publication_name       243015 non-null  object             \n",
      " 4   publication_language   243015 non-null  object             \n",
      " 5   news_publication_date  243015 non-null  datetime64[ns]     \n",
      " 6   news_title             243015 non-null  object             \n",
      " 7   news_keywords          120285 non-null  object             \n",
      " 8   image                  146717 non-null  object             \n",
      " 9   image_loc              239839 non-null  object             \n",
      " 10  image_caption          158030 non-null  object             \n",
      " 11  sitemap                243015 non-null  object             \n",
      " 12  etag                   112987 non-null  object             \n",
      " 13  sitemap_last_modified  137446 non-null  datetime64[ns, UTC]\n",
      " 14  sitemap_size_mb        243015 non-null  float64            \n",
      " 15  download_date          243015 non-null  datetime64[ns]     \n",
      " 16  media                  243015 non-null  object             \n",
      " 17  section                243015 non-null  object             \n",
      " 18  changefreq             12084 non-null   object             \n",
      " 19  news_access            1118 non-null    object             \n",
      " 20  image_title            59407 non-null   object             \n",
      " 21  lastmod                74728 non-null   object             \n",
      " 22  news_genres            435 non-null     object             \n",
      " 23  priority               10348 non-null   float64            \n",
      " 24  download_date_last     107289 non-null  datetime64[ns]     \n",
      " 25  media_type             243015 non-null  object             \n",
      "dtypes: datetime64[ns, UTC](1), datetime64[ns](3), float64(2), object(20)\n",
      "memory usage: 50.1+ MB\n"
     ]
    }
   ],
   "source": [
    "df.info()"
   ]
  },
  {
   "attachments": {},
   "cell_type": "markdown",
   "metadata": {},
   "source": [
    "2 medias types: `tv` and `webpress`."
   ]
  },
  {
   "cell_type": "code",
   "execution_count": 7,
   "metadata": {},
   "outputs": [
    {
     "data": {
      "text/plain": [
       "array(['francetvinfo', 'bfmtv'], dtype=object)"
      ]
     },
     "execution_count": 7,
     "metadata": {},
     "output_type": "execute_result"
    }
   ],
   "source": [
    "tv_medias = df[df[\"media_type\"] == \"tv\"][\"media\"].unique()\n",
    "tv_medias"
   ]
  },
  {
   "cell_type": "code",
   "execution_count": 8,
   "metadata": {},
   "outputs": [
    {
     "data": {
      "text/plain": [
       "array(['lefigaro', '20_minutes', 'investir.lesechos', 'liberation',\n",
       "       'lesechos', 'lamarseillaise', 'lexpress', 'letelegramme',\n",
       "       'le_point', 'lequipe', 'nouvel_obs', 'lemonde', 'lopinion'],\n",
       "      dtype=object)"
      ]
     },
     "execution_count": 8,
     "metadata": {},
     "output_type": "execute_result"
    }
   ],
   "source": [
    "webpress_medias = df[df[\"media_type\"] == \"webpress\"][\"media\"].unique()\n",
    "webpress_medias"
   ]
  },
  {
   "attachments": {},
   "cell_type": "markdown",
   "metadata": {},
   "source": [
    "## **1. Create labels from climate-related sections**"
   ]
  },
  {
   "attachments": {},
   "cell_type": "markdown",
   "metadata": {},
   "source": [
    "Le but est extraire en premier lieu les sections que nous utiliserons plus tard pour la définition des articles liés au climat. "
   ]
  },
  {
   "cell_type": "code",
   "execution_count": 9,
   "metadata": {},
   "outputs": [
    {
     "data": {
      "text/plain": [
       "32967                                       [faits-divers]\n",
       "32968    [economie, emploi, carriere, vie-professionnel...\n",
       "32969          [politique, gouvernement-d-elisabeth-borne]\n",
       "32970               [france, hauts-de-france, nord, lille]\n",
       "32971    [economie, emploi, carriere, vie-professionnel...\n",
       "Name: section, dtype: object"
      ]
     },
     "execution_count": 9,
     "metadata": {},
     "output_type": "execute_result"
    }
   ],
   "source": [
    "df[\"section\"].head()"
   ]
  },
  {
   "cell_type": "code",
   "execution_count": 10,
   "metadata": {},
   "outputs": [
    {
     "name": "stdout",
     "output_type": "stream",
     "text": [
      "There are 2948 identified sections.\n"
     ]
    }
   ],
   "source": [
    "# Get unique values\n",
    "section_names = sorted(set(itertools.chain.from_iterable(df[\"section\"])))\n",
    "print(f\"There are {len(section_names)} identified sections.\")"
   ]
  },
  {
   "cell_type": "code",
   "execution_count": 20,
   "metadata": {},
   "outputs": [],
   "source": [
    "# Save in file\n",
    "# with open(\"../../data_public/sitemap_dumps/section_names.txt\", \"w\") as fp:\n",
    "#    fp.write(\"\\n\".join(section_names))\n"
   ]
  },
  {
   "cell_type": "code",
   "execution_count": 38,
   "metadata": {},
   "outputs": [],
   "source": [
    "# Identify climate-related sections\n",
    "climate_sections = [\n",
    "    \"atmosphere\",\n",
    "    \"biodiversite\",\n",
    "    \"climat\",\n",
    "    \"cop\",\n",
    "    \"crise-climatique\",\n",
    "    \"ecologie\",\n",
    "    \"empreinte-carbone\",\n",
    "    \"energie-environnement\",\n",
    "    \"energie-petrole-nucleaire-renouvelables-geopolitique\",\n",
    "    \"environnement\",\n",
    "    \"environnement-et-sante\",\n",
    "    \"leolien-au-sein-de-loudeac-communaute\",\n",
    "    \"leolien-autour-de-guingamp\",\n",
    "    \"nucleaire\",\n",
    "    \"nucleaire-iranien\",\n",
    "    \"parc-eolien-en-baie-de-saint-brieuc-des-annees-de-tensions\",\n",
    "    \"plan-de-sobriete\",\n",
    "    \"planete-locale\",\n",
    "    \"pollution\",\n",
    "    \"pollution-air\",\n",
    "    \"secheresse\",\n",
    "    \"sur-le-green\",\n",
    "    \"terre\"\n",
    "]\n"
   ]
  },
  {
   "attachments": {},
   "cell_type": "markdown",
   "metadata": {},
   "source": [
    "A la main, on identifie les sections qui pourraient être en rapport avec des sujets climat.\n",
    "\n",
    "Attention : subjectif, et parfois ne parle pas de climat, donc à vérifier à la main aussi."
   ]
  },
  {
   "attachments": {},
   "cell_type": "markdown",
   "metadata": {},
   "source": [
    "On va vérifier à la main si les sections identifiées comme climat sont bien associées à des articles mentionnant un sujet climat. Pour cela, on filtre les articles dont les sections appartiennent aux sections climat identifiées. On enregistre dans `climate_news_title.csv` les titres d'articles et leurs sections : cela nous servira comme base pour la vérification des vrais et faux positifs, et modifier si besoin la liste `climate_sections`."
   ]
  },
  {
   "cell_type": "code",
   "execution_count": 39,
   "metadata": {},
   "outputs": [],
   "source": [
    "def check_list_item_is_in_list(sections, climate_sections=climate_sections):\n",
    "    return any(x in climate_sections for x in sections)\n",
    "\n",
    "climate_mask = df[\"section\"].apply(check_list_item_is_in_list)\n",
    "df_climate = df[climate_mask][[\"news_title\", \"section\"]]"
   ]
  },
  {
   "cell_type": "code",
   "execution_count": 40,
   "metadata": {},
   "outputs": [
    {
     "data": {
      "text/html": [
       "<div>\n",
       "<style scoped>\n",
       "    .dataframe tbody tr th:only-of-type {\n",
       "        vertical-align: middle;\n",
       "    }\n",
       "\n",
       "    .dataframe tbody tr th {\n",
       "        vertical-align: top;\n",
       "    }\n",
       "\n",
       "    .dataframe thead th {\n",
       "        text-align: right;\n",
       "    }\n",
       "</style>\n",
       "<table border=\"1\" class=\"dataframe\">\n",
       "  <thead>\n",
       "    <tr style=\"text-align: right;\">\n",
       "      <th></th>\n",
       "      <th>news_title</th>\n",
       "      <th>section</th>\n",
       "    </tr>\n",
       "  </thead>\n",
       "  <tbody>\n",
       "    <tr>\n",
       "      <th>32979</th>\n",
       "      <td>Environnement : pour le compost, des sacs pas ...</td>\n",
       "      <td>[monde, environnement]</td>\n",
       "    </tr>\n",
       "    <tr>\n",
       "      <th>33074</th>\n",
       "      <td>Plastiques biodégradables : des sacs à bannir ...</td>\n",
       "      <td>[monde, environnement]</td>\n",
       "    </tr>\n",
       "    <tr>\n",
       "      <th>33158</th>\n",
       "      <td>Plastique : le Conseil d'Etat pourrait annuler...</td>\n",
       "      <td>[monde, environnement]</td>\n",
       "    </tr>\n",
       "    <tr>\n",
       "      <th>33214</th>\n",
       "      <td>Climat : l'ONU appelle le secteur maritime à a...</td>\n",
       "      <td>[monde, environnement, crise-climatique]</td>\n",
       "    </tr>\n",
       "    <tr>\n",
       "      <th>33233</th>\n",
       "      <td>Dérèglement climatique : l'année 2022 est d'or...</td>\n",
       "      <td>[monde, environnement, crise-climatique]</td>\n",
       "    </tr>\n",
       "  </tbody>\n",
       "</table>\n",
       "</div>"
      ],
      "text/plain": [
       "                                              news_title  \\\n",
       "32979  Environnement : pour le compost, des sacs pas ...   \n",
       "33074  Plastiques biodégradables : des sacs à bannir ...   \n",
       "33158  Plastique : le Conseil d'Etat pourrait annuler...   \n",
       "33214  Climat : l'ONU appelle le secteur maritime à a...   \n",
       "33233  Dérèglement climatique : l'année 2022 est d'or...   \n",
       "\n",
       "                                        section  \n",
       "32979                    [monde, environnement]  \n",
       "33074                    [monde, environnement]  \n",
       "33158                    [monde, environnement]  \n",
       "33214  [monde, environnement, crise-climatique]  \n",
       "33233  [monde, environnement, crise-climatique]  "
      ]
     },
     "execution_count": 40,
     "metadata": {},
     "output_type": "execute_result"
    }
   ],
   "source": [
    "df_climate.head()"
   ]
  },
  {
   "cell_type": "code",
   "execution_count": 41,
   "metadata": {},
   "outputs": [
    {
     "data": {
      "text/plain": [
       "(1625, 2)"
      ]
     },
     "execution_count": 41,
     "metadata": {},
     "output_type": "execute_result"
    }
   ],
   "source": [
    "df_climate.shape"
   ]
  },
  {
   "cell_type": "code",
   "execution_count": 42,
   "metadata": {},
   "outputs": [],
   "source": [
    "df_climate.to_csv(\"../../data_public/sitemap_dumps/climate_news_title.csv\")"
   ]
  },
  {
   "attachments": {},
   "cell_type": "markdown",
   "metadata": {},
   "source": [
    "Une fois la liste des sections liées au sujet climat fixée, on associe chaque section à un label :\n",
    "- 1 si liée au climat\n",
    "- 0 sinon"
   ]
  },
  {
   "cell_type": "code",
   "execution_count": 26,
   "metadata": {},
   "outputs": [],
   "source": [
    "# Map section to 1 if climate-related, else 0\n",
    "section_label_mapping = {\n",
    "    section: (1 if section in climate_sections else 0) for section in section_names\n",
    "}\n"
   ]
  },
  {
   "cell_type": "code",
   "execution_count": 27,
   "metadata": {},
   "outputs": [],
   "source": [
    "# Save to json\n",
    "with open(\"../../data_public/sitemap_dumps/section_label_mapping.json\", \"w\") as fp:\n",
    "    json.dump(section_label_mapping, fp, indent=4)"
   ]
  },
  {
   "attachments": {},
   "cell_type": "markdown",
   "metadata": {},
   "source": [
    "## **2. Data preparation**\n",
    "\n",
    "- Labeliser le dataset\n",
    "- Train, val, test split\n",
    "- ..."
   ]
  },
  {
   "cell_type": "code",
   "execution_count": null,
   "metadata": {},
   "outputs": [],
   "source": []
  }
 ],
 "metadata": {
  "kernelspec": {
   "display_name": ".env_quotaclimat",
   "language": "python",
   "name": "python3"
  },
  "language_info": {
   "codemirror_mode": {
    "name": "ipython",
    "version": 3
   },
   "file_extension": ".py",
   "mimetype": "text/x-python",
   "name": "python",
   "nbconvert_exporter": "python",
   "pygments_lexer": "ipython3",
   "version": "3.10.2"
  },
  "orig_nbformat": 4,
  "vscode": {
   "interpreter": {
    "hash": "866e2118faa90d6e917e5cd5b453380ecced7e903f334d3e1dc9ee0bd32ce10f"
   }
  }
 },
 "nbformat": 4,
 "nbformat_minor": 2
}
